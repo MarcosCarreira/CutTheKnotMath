{
 "cells": [
  {
   "cell_type": "markdown",
   "metadata": {},
   "source": [
    "# Matching Socks in Dark Room"
   ]
  },
  {
   "cell_type": "markdown",
   "metadata": {},
   "source": [
    "### From a @CutTheKnotMath (Alexander Bogololny) post"
   ]
  },
  {
   "cell_type": "markdown",
   "metadata": {},
   "source": [
    "The colors of ten pairs of socks range through different shades of gray from medium gray through black. Washed and dried in a dark room they have to be matched. Two socks form an unacceptable pair if their colors differ by more than one shade.\n",
    "\n",
    "What is the probability of having 10 acceptable pairs when they are being matched - due to the light conditions -at random?"
   ]
  },
  {
   "cell_type": "code",
   "execution_count": 1,
   "metadata": {},
   "outputs": [],
   "source": [
    "import math as math\n",
    "import numpy as np\n",
    "import pandas as pd"
   ]
  },
  {
   "cell_type": "markdown",
   "metadata": {},
   "source": [
    "## Quantifying the problem"
   ]
  },
  {
   "cell_type": "code",
   "execution_count": 2,
   "metadata": {},
   "outputs": [],
   "source": [
    "n0=10"
   ]
  },
  {
   "cell_type": "code",
   "execution_count": 3,
   "metadata": {},
   "outputs": [],
   "source": [
    "socks0=list(range(1,n0+1))+list(range(1,n0+1))"
   ]
  },
  {
   "cell_type": "markdown",
   "metadata": {},
   "source": [
    "Numbered socks, 1 to n, two of each; acceptable: numbers are within a distance of 1. Ideal match: k and k; k and k-1 or k and k+1 are acceptable."
   ]
  },
  {
   "cell_type": "code",
   "execution_count": 4,
   "metadata": {},
   "outputs": [
    {
     "data": {
      "text/plain": [
       "[1, 2, 3, 4, 5, 6, 7, 8, 9, 10, 1, 2, 3, 4, 5, 6, 7, 8, 9, 10]"
      ]
     },
     "execution_count": 4,
     "metadata": {},
     "output_type": "execute_result"
    }
   ],
   "source": [
    "socks0"
   ]
  },
  {
   "cell_type": "markdown",
   "metadata": {},
   "source": [
    "## Generating permutations"
   ]
  },
  {
   "cell_type": "markdown",
   "metadata": {},
   "source": [
    "### Non recursive version of Heap's algorithm"
   ]
  },
  {
   "cell_type": "code",
   "execution_count": 5,
   "metadata": {},
   "outputs": [],
   "source": [
    "def permut(n,a):\n",
    "    perms=[a[:]]\n",
    "    c=[0 for i in range(n)]\n",
    "    if n==1:\n",
    "        return perms\n",
    "    else:\n",
    "        i=0\n",
    "        while (i<n):\n",
    "            if c[i]<i:\n",
    "                if i%2==0:\n",
    "                    tmp=a[0]\n",
    "                    a[0]=a[i]\n",
    "                    a[i]=tmp\n",
    "                else:\n",
    "                    tmp=a[c[i]]\n",
    "                    a[c[i]]=a[i]\n",
    "                    a[i]=tmp\n",
    "                perms.append(a[:])\n",
    "                c[i]=c[i]+1\n",
    "                i=0\n",
    "            else:\n",
    "                c[i]=0\n",
    "                i=i+1\n",
    "    return perms"
   ]
  },
  {
   "cell_type": "code",
   "execution_count": 6,
   "metadata": {},
   "outputs": [],
   "source": [
    "def partit(a):\n",
    "    return [a[j:j+2] for j in range(0,len(a),2)]"
   ]
  },
  {
   "cell_type": "code",
   "execution_count": 7,
   "metadata": {},
   "outputs": [],
   "source": [
    "def distp(p):\n",
    "    return abs(p[1]-p[0])"
   ]
  },
  {
   "cell_type": "code",
   "execution_count": 8,
   "metadata": {},
   "outputs": [],
   "source": [
    "def dista(a):\n",
    "    return [distp(p) for p in a]"
   ]
  },
  {
   "cell_type": "code",
   "execution_count": 9,
   "metadata": {},
   "outputs": [],
   "source": [
    "def accept(d):\n",
    "    if max(d)<=1:\n",
    "        return 1\n",
    "    else:\n",
    "        return 0"
   ]
  },
  {
   "cell_type": "code",
   "execution_count": 10,
   "metadata": {},
   "outputs": [],
   "source": [
    "def multin(n):\n",
    "    return math.factorial(2*n)//(math.factorial(2)**n)"
   ]
  },
  {
   "cell_type": "markdown",
   "metadata": {},
   "source": [
    "We will find that we can divide our results by $(2^n)(n!)$, where the $n!$ stands for the permutations of the pairs (it doesn't matter the order of the pairs) and the $2^n$ means that that it doens't matter the order of the socks within each pair."
   ]
  },
  {
   "cell_type": "code",
   "execution_count": 11,
   "metadata": {},
   "outputs": [],
   "source": [
    "def naccept(n):\n",
    "    fn=math.factorial(n)*(2**n)\n",
    "    mn=multin(n)\n",
    "    socks=list(range(1,n+1))+list(range(1,n+1))\n",
    "    permsocks=permut(2*n,socks)\n",
    "    permpairs=[partit(x) for x in permsocks]\n",
    "    distsperms=[dista(x) for x in permpairs]\n",
    "    acceptperms=[accept(x) for x in distsperms]\n",
    "    sacc=sum(acceptperms)\n",
    "    lacc=len(acceptperms)\n",
    "    return [n,mn,sacc,lacc,sacc//fn,lacc//fn]"
   ]
  },
  {
   "cell_type": "code",
   "execution_count": 12,
   "metadata": {},
   "outputs": [],
   "source": [
    "def acceptperm(a):\n",
    "    return accept(dista(partit(a)))"
   ]
  },
  {
   "cell_type": "code",
   "execution_count": 13,
   "metadata": {},
   "outputs": [],
   "source": [
    "tbl=[naccept(n) for n in range(2,6)]"
   ]
  },
  {
   "cell_type": "markdown",
   "metadata": {},
   "source": [
    "Columns below:\n",
    "\n",
    "n <br>\n",
    "Multinomial(2,2,...,2): n times 2 <br>\n",
    "Acceptable permutations <br>\n",
    "Total permutations <br>\n",
    "Acceptable reduced permutations <br>\n",
    "Total reduced permutations"
   ]
  },
  {
   "cell_type": "code",
   "execution_count": 14,
   "metadata": {},
   "outputs": [
    {
     "data": {
      "text/plain": [
       "[[2, 6, 24, 24, 3, 3],\n",
       " [3, 90, 240, 720, 5, 15],\n",
       " [4, 2520, 4224, 40320, 11, 105],\n",
       " [5, 113400, 80640, 3628800, 21, 945]]"
      ]
     },
     "execution_count": 14,
     "metadata": {},
     "output_type": "execute_result"
    }
   ],
   "source": [
    "tbl"
   ]
  },
  {
   "cell_type": "markdown",
   "metadata": {},
   "source": [
    "Stop now - too many permutations to list."
   ]
  },
  {
   "cell_type": "markdown",
   "metadata": {},
   "source": [
    "Should we rewrite our function to stop storing the permutations?\n",
    "Or try to rewrite the permutations algorithm to account for the $(2^n)(n!)$ redundancies?"
   ]
  },
  {
   "cell_type": "markdown",
   "metadata": {},
   "source": [
    "## Tangent: Number of ways of sitting m people in a row with n chairs wthout any neighbours"
   ]
  },
  {
   "cell_type": "markdown",
   "metadata": {},
   "source": [
    "There are n ways with m=1 (including n=1) <br>\n",
    "For $n>2$ and $m>1$, we can use the recurrence: <br>\n",
    "$f(n,m)=\\sum\\limits_{k=2}^{n-1} f(n-k,m-1)$ "
   ]
  },
  {
   "cell_type": "markdown",
   "metadata": {},
   "source": [
    "Why? Choose a chair for the first person, take away everything to the left, the choice and the chair to the right; then use the previous results for m-1."
   ]
  },
  {
   "cell_type": "code",
   "execution_count": 35,
   "metadata": {},
   "outputs": [],
   "source": [
    "def f(n,m):\n",
    "    if ((n==m) and (n>1)) or (n<m):\n",
    "        return 0\n",
    "    else:\n",
    "        if m==1:\n",
    "            return n\n",
    "        else:\n",
    "            sumf=0\n",
    "            for k in range(2,n):\n",
    "                sumf=sumf+f(n-k,m-1)\n",
    "    return sumf"
   ]
  },
  {
   "cell_type": "code",
   "execution_count": 36,
   "metadata": {},
   "outputs": [],
   "source": [
    "chairs=[[f(n,m) for n in range(1,11)] for m in range(1,11)]"
   ]
  },
  {
   "cell_type": "code",
   "execution_count": 31,
   "metadata": {},
   "outputs": [],
   "source": [
    "dfchairs=pd.DataFrame(np.array(chairs),columns=range(1,11),index=range(1,11))"
   ]
  },
  {
   "cell_type": "code",
   "execution_count": 38,
   "metadata": {},
   "outputs": [
    {
     "data": {
      "text/html": [
       "<div>\n",
       "<style scoped>\n",
       "    .dataframe tbody tr th:only-of-type {\n",
       "        vertical-align: middle;\n",
       "    }\n",
       "\n",
       "    .dataframe tbody tr th {\n",
       "        vertical-align: top;\n",
       "    }\n",
       "\n",
       "    .dataframe thead th {\n",
       "        text-align: right;\n",
       "    }\n",
       "</style>\n",
       "<table border=\"1\" class=\"dataframe\">\n",
       "  <thead>\n",
       "    <tr style=\"text-align: right;\">\n",
       "      <th></th>\n",
       "      <th>1</th>\n",
       "      <th>2</th>\n",
       "      <th>3</th>\n",
       "      <th>4</th>\n",
       "      <th>5</th>\n",
       "      <th>6</th>\n",
       "      <th>7</th>\n",
       "      <th>8</th>\n",
       "      <th>9</th>\n",
       "      <th>10</th>\n",
       "    </tr>\n",
       "  </thead>\n",
       "  <tbody>\n",
       "    <tr>\n",
       "      <th>1</th>\n",
       "      <td>1</td>\n",
       "      <td>2</td>\n",
       "      <td>3</td>\n",
       "      <td>4</td>\n",
       "      <td>5</td>\n",
       "      <td>6</td>\n",
       "      <td>7</td>\n",
       "      <td>8</td>\n",
       "      <td>9</td>\n",
       "      <td>10</td>\n",
       "    </tr>\n",
       "    <tr>\n",
       "      <th>2</th>\n",
       "      <td></td>\n",
       "      <td></td>\n",
       "      <td>1</td>\n",
       "      <td>3</td>\n",
       "      <td>6</td>\n",
       "      <td>10</td>\n",
       "      <td>15</td>\n",
       "      <td>21</td>\n",
       "      <td>28</td>\n",
       "      <td>36</td>\n",
       "    </tr>\n",
       "    <tr>\n",
       "      <th>3</th>\n",
       "      <td></td>\n",
       "      <td></td>\n",
       "      <td></td>\n",
       "      <td></td>\n",
       "      <td>1</td>\n",
       "      <td>4</td>\n",
       "      <td>10</td>\n",
       "      <td>20</td>\n",
       "      <td>35</td>\n",
       "      <td>56</td>\n",
       "    </tr>\n",
       "    <tr>\n",
       "      <th>4</th>\n",
       "      <td></td>\n",
       "      <td></td>\n",
       "      <td></td>\n",
       "      <td></td>\n",
       "      <td></td>\n",
       "      <td></td>\n",
       "      <td>1</td>\n",
       "      <td>5</td>\n",
       "      <td>15</td>\n",
       "      <td>35</td>\n",
       "    </tr>\n",
       "    <tr>\n",
       "      <th>5</th>\n",
       "      <td></td>\n",
       "      <td></td>\n",
       "      <td></td>\n",
       "      <td></td>\n",
       "      <td></td>\n",
       "      <td></td>\n",
       "      <td></td>\n",
       "      <td></td>\n",
       "      <td>1</td>\n",
       "      <td>6</td>\n",
       "    </tr>\n",
       "    <tr>\n",
       "      <th>6</th>\n",
       "      <td></td>\n",
       "      <td></td>\n",
       "      <td></td>\n",
       "      <td></td>\n",
       "      <td></td>\n",
       "      <td></td>\n",
       "      <td></td>\n",
       "      <td></td>\n",
       "      <td></td>\n",
       "      <td></td>\n",
       "    </tr>\n",
       "    <tr>\n",
       "      <th>7</th>\n",
       "      <td></td>\n",
       "      <td></td>\n",
       "      <td></td>\n",
       "      <td></td>\n",
       "      <td></td>\n",
       "      <td></td>\n",
       "      <td></td>\n",
       "      <td></td>\n",
       "      <td></td>\n",
       "      <td></td>\n",
       "    </tr>\n",
       "    <tr>\n",
       "      <th>8</th>\n",
       "      <td></td>\n",
       "      <td></td>\n",
       "      <td></td>\n",
       "      <td></td>\n",
       "      <td></td>\n",
       "      <td></td>\n",
       "      <td></td>\n",
       "      <td></td>\n",
       "      <td></td>\n",
       "      <td></td>\n",
       "    </tr>\n",
       "    <tr>\n",
       "      <th>9</th>\n",
       "      <td></td>\n",
       "      <td></td>\n",
       "      <td></td>\n",
       "      <td></td>\n",
       "      <td></td>\n",
       "      <td></td>\n",
       "      <td></td>\n",
       "      <td></td>\n",
       "      <td></td>\n",
       "      <td></td>\n",
       "    </tr>\n",
       "    <tr>\n",
       "      <th>10</th>\n",
       "      <td></td>\n",
       "      <td></td>\n",
       "      <td></td>\n",
       "      <td></td>\n",
       "      <td></td>\n",
       "      <td></td>\n",
       "      <td></td>\n",
       "      <td></td>\n",
       "      <td></td>\n",
       "      <td></td>\n",
       "    </tr>\n",
       "  </tbody>\n",
       "</table>\n",
       "</div>"
      ],
      "text/plain": [
       "   1  2  3  4  5   6   7   8   9   10\n",
       "1   1  2  3  4  5   6   7   8   9  10\n",
       "2         1  3  6  10  15  21  28  36\n",
       "3               1   4  10  20  35  56\n",
       "4                       1   5  15  35\n",
       "5                               1   6\n",
       "6                                    \n",
       "7                                    \n",
       "8                                    \n",
       "9                                    \n",
       "10                                   "
      ]
     },
     "execution_count": 38,
     "metadata": {},
     "output_type": "execute_result"
    }
   ],
   "source": [
    "dfchairs.replace(0,'')"
   ]
  },
  {
   "cell_type": "markdown",
   "metadata": {},
   "source": [
    "## Back to our original program"
   ]
  },
  {
   "cell_type": "markdown",
   "metadata": {},
   "source": [
    "Either all socks are perfectly matched, or socks are matched with neighbours. If a pair is matched, it cannot be used with the neighbours."
   ]
  },
  {
   "cell_type": "markdown",
   "metadata": {},
   "source": [
    "So you could have no pairs (exact matching), one pair, two pairs, ..., how many pairs?"
   ]
  },
  {
   "cell_type": "markdown",
   "metadata": {},
   "source": [
    "For odd n the maximum number of pairs is (n-1)/2 <br>\n",
    "For even n the maximum number of pairs is n/2"
   ]
  },
  {
   "cell_type": "markdown",
   "metadata": {},
   "source": [
    "And the answers can be found on our chairs table, looking at n-1 and m."
   ]
  },
  {
   "cell_type": "markdown",
   "metadata": {},
   "source": [
    "For each desired number of pairs, look at $f(n-1,m)$, and consider $2^m$ ways of matching these pairs (for each m)."
   ]
  },
  {
   "cell_type": "code",
   "execution_count": 50,
   "metadata": {},
   "outputs": [],
   "source": [
    "def g(n):\n",
    "    sumg=1\n",
    "    for m in range(1,n):\n",
    "        sumg=sumg+f(n-1,m)*(2**m)\n",
    "    return sumg"
   ]
  },
  {
   "cell_type": "code",
   "execution_count": 52,
   "metadata": {},
   "outputs": [
    {
     "data": {
      "text/plain": [
       "[3, 5, 11, 21, 43, 85, 171, 341, 683]"
      ]
     },
     "execution_count": 52,
     "metadata": {},
     "output_type": "execute_result"
    }
   ],
   "source": [
    "[g(n) for n in range(2,11)]"
   ]
  },
  {
   "cell_type": "markdown",
   "metadata": {},
   "source": [
    "The total number of possibilities is:"
   ]
  },
  {
   "cell_type": "code",
   "execution_count": 55,
   "metadata": {},
   "outputs": [],
   "source": [
    "def u(n):\n",
    "    return math.factorial(2*n)//(math.factorial(n)*(2**n))"
   ]
  },
  {
   "cell_type": "code",
   "execution_count": 56,
   "metadata": {},
   "outputs": [
    {
     "data": {
      "text/plain": [
       "[3, 15, 105, 945, 10395, 135135, 2027025, 34459425, 654729075]"
      ]
     },
     "execution_count": 56,
     "metadata": {},
     "output_type": "execute_result"
    }
   ],
   "source": [
    "[u(n) for n in range(2,11)]"
   ]
  },
  {
   "cell_type": "markdown",
   "metadata": {},
   "source": [
    "## And the answer is:"
   ]
  },
  {
   "cell_type": "markdown",
   "metadata": {},
   "source": [
    "$$\\frac{683}{654729075}$$"
   ]
  }
 ],
 "metadata": {
  "kernelspec": {
   "display_name": "Python 3",
   "language": "python",
   "name": "python3"
  },
  "language_info": {
   "codemirror_mode": {
    "name": "ipython",
    "version": 3
   },
   "file_extension": ".py",
   "mimetype": "text/x-python",
   "name": "python",
   "nbconvert_exporter": "python",
   "pygments_lexer": "ipython3",
   "version": "3.6.4"
  }
 },
 "nbformat": 4,
 "nbformat_minor": 2
}
